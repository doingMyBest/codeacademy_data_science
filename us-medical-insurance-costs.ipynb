{
 "cells": [
  {
   "cell_type": "markdown",
   "metadata": {},
   "source": [
    "# U.S. Medical Insurance Costs"
   ]
  },
  {
   "cell_type": "code",
   "execution_count": 1,
   "metadata": {},
   "outputs": [
    {
     "name": "stdout",
     "output_type": "stream",
     "text": [
      "['age', 'sex', 'bmi', 'children', 'smoker', 'region', 'charges']\n",
      "['19', 'female', '27.9', '0', 'yes', 'southwest', '16884.924']\n"
     ]
    }
   ],
   "source": [
    "#import csv\n",
    "import csv\n",
    "\n",
    "#get an overview over the data structure\n",
    "with open('insurance.csv') as csv_file:\n",
    "    csv_read=csv.reader(csv_file, delimiter=',')\n",
    "    i = 0\n",
    "    for i, row in enumerate(csv_read):\n",
    "        if i < 2:\n",
    "            print(row)\n",
    "            i += 1"
   ]
  },
  {
   "cell_type": "code",
   "execution_count": 2,
   "metadata": {},
   "outputs": [],
   "source": [
    "#creating empty different lists for the data\n",
    "header = []\n",
    "age = []\n",
    "sex = []\n",
    "bmi = []\n",
    "children = []\n",
    "smoker = []\n",
    "region = []\n",
    "charges = []"
   ]
  },
  {
   "cell_type": "code",
   "execution_count": 3,
   "metadata": {},
   "outputs": [],
   "source": [
    "#creating function to fill the lists\n",
    "def fill_list(empty_list, index, csv_name):\n",
    "    with open(csv_name) as csv_file:\n",
    "        csv_read = csv.reader(csv_file, delimiter=',')\n",
    "        for i, row in enumerate(csv_read):\n",
    "            if i > 0:\n",
    "                empty_list.append(row[index])"
   ]
  },
  {
   "cell_type": "code",
   "execution_count": 4,
   "metadata": {},
   "outputs": [],
   "source": [
    "#creating function to fill the header\n",
    "def fill_header(header_list, csv_name):\n",
    "    with open(csv_name, 'r') as csv_file:\n",
    "        csv_reader = csv.reader(csv_file, delimiter=',')\n",
    "        header = next(csv_reader)  # Get the first row (header)\n",
    "        header_list.extend(header)  # Add the header row to the provided list"
   ]
  },
  {
   "cell_type": "code",
   "execution_count": 5,
   "metadata": {},
   "outputs": [],
   "source": [
    "# Call the function on the lists\n",
    "fill_list(age, 0, 'insurance.csv')\n",
    "fill_list(sex, 1, 'insurance.csv')\n",
    "fill_list(bmi, 2, 'insurance.csv')\n",
    "fill_list(children, 3, 'insurance.csv')\n",
    "fill_list(smoker, 4, 'insurance.csv')\n",
    "fill_list(region, 5, 'insurance.csv')\n",
    "fill_list(charges, 6, 'insurance.csv')"
   ]
  },
  {
   "cell_type": "code",
   "execution_count": 6,
   "metadata": {},
   "outputs": [],
   "source": [
    "#conduct descriptive analyses\n",
    "##prepare the numerical lists\n",
    "age = [int(element) for element in age]\n",
    "bmi = [float(element) for element in bmi]\n",
    "children = [int(element) for element in children]\n",
    "charges = [float(element) for element in charges]"
   ]
  },
  {
   "cell_type": "code",
   "execution_count": 7,
   "metadata": {},
   "outputs": [],
   "source": [
    "##numerical data mean and standard deviation function\n",
    "#import statics for analyses\n",
    "import statistics\n",
    "def mean_and_standard_deviation(numerical_list, variable):\n",
    "    mean = statistics.mean(numerical_list)\n",
    "    standard_deviation = statistics.stdev(numerical_list)\n",
    "    print('The mean of',variable,'is',round(mean,2),'and the standard deviation is',round(standard_deviation, 2))"
   ]
  },
  {
   "cell_type": "code",
   "execution_count": 8,
   "metadata": {},
   "outputs": [
    {
     "name": "stdout",
     "output_type": "stream",
     "text": [
      "The mean of age is 39.21 and the standard deviation is 14.05\n",
      "The mean of bmi is 30.66 and the standard deviation is 6.1\n",
      "The mean of children is 1.09 and the standard deviation is 1.21\n",
      "The mean of charges is 13270.42 and the standard deviation is 12110.01\n"
     ]
    }
   ],
   "source": [
    "#for age\n",
    "mean_and_standard_deviation(age,'age')\n",
    "#for bmi\n",
    "mean_and_standard_deviation(bmi,'bmi')\n",
    "#for children\n",
    "mean_and_standard_deviation(children,'children')\n",
    "#for charges\n",
    "mean_and_standard_deviation(charges,'charges')"
   ]
  },
  {
   "cell_type": "code",
   "execution_count": 9,
   "metadata": {},
   "outputs": [],
   "source": [
    "##categorial data mode and frequency distribution function\n",
    "from collections import Counter\n",
    "def mode_and_frequency_distribution(categorial_list, variable):\n",
    "    mode = statistics.mode(categorial_list)\n",
    "    category_count = Counter(categorial_list)\n",
    "    print(f'The mode of {variable} is {mode}, and the frequency distribution is ' +\n",
    "      ', '.join([f'{key}: {value}' for key, value in category_count.items()]))"
   ]
  },
  {
   "cell_type": "code",
   "execution_count": 10,
   "metadata": {},
   "outputs": [
    {
     "name": "stdout",
     "output_type": "stream",
     "text": [
      "The mode of sex is male, and the frequency distribution is female: 662, male: 676\n",
      "The mode of smoker is no, and the frequency distribution is yes: 274, no: 1064\n",
      "The mode of region is southeast, and the frequency distribution is southwest: 325, southeast: 364, northwest: 325, northeast: 324\n"
     ]
    }
   ],
   "source": [
    "#for sex\n",
    "mode_and_frequency_distribution(sex, 'sex')\n",
    "#for smoker\n",
    "mode_and_frequency_distribution(smoker, 'smoker')\n",
    "#for region\n",
    "mode_and_frequency_distribution(region, 'region')"
   ]
  },
  {
   "cell_type": "code",
   "execution_count": 11,
   "metadata": {},
   "outputs": [],
   "source": [
    "#creating a dictionary with all the patient info\n",
    "def create_patient_dict(list_names, *args):\n",
    "    # Initialize an empty dictionary to hold the patient data\n",
    "    patient_dict = {}\n",
    "    \n",
    "    # Zip together list_names with the args, so you pair them\n",
    "    for name, value in zip(list_names, args):\n",
    "        patient_dict[name] = value  # Assign the corresponding value to the name key\n",
    "    return patient_dict\n",
    "    \n",
    "new_patient_dict = create_patient_dict(['age','sex','bmi','children','smoker','region','charges'], age, sex, bmi, children, smoker, region, charges)"
   ]
  },
  {
   "cell_type": "code",
   "execution_count": null,
   "metadata": {},
   "outputs": [],
   "source": []
  }
 ],
 "metadata": {
  "kernelspec": {
   "display_name": "Python 3 (ipykernel)",
   "language": "python",
   "name": "python3"
  },
  "language_info": {
   "codemirror_mode": {
    "name": "ipython",
    "version": 3
   },
   "file_extension": ".py",
   "mimetype": "text/x-python",
   "name": "python",
   "nbconvert_exporter": "python",
   "pygments_lexer": "ipython3",
   "version": "3.12.3"
  }
 },
 "nbformat": 4,
 "nbformat_minor": 4
}
